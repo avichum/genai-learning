{
 "cells": [
  {
   "cell_type": "markdown",
   "id": "6cd76440-c001-4d76-ba7b-2651eb5e654f",
   "metadata": {},
   "source": [
    "# AWS Announcements Assistant"
   ]
  },
  {
   "cell_type": "markdown",
   "id": "b7f944d4-c1c6-4411-a3bd-cb9a7c356692",
   "metadata": {},
   "source": [
    "### Evaluate 🔎 AWS Announcements and auto-generate a presentation. This sample will fetch 🎣 latest AWS annoucements, using Amazon Bedrock will summarize the details and extract technology names from the details and auto-generate a presentation for you.\"\n"
   ]
  },
  {
   "cell_type": "code",
   "execution_count": 99,
   "id": "0d939e18-f184-4f7a-b476-035ecbb30e17",
   "metadata": {},
   "outputs": [],
   "source": [
    "import xml.etree.ElementTree as ET\n",
    "from bs4 import BeautifulSoup\n",
    "import requests\n",
    "import shutil\n",
    "import time\n",
    "\n",
    "from datetime import date\n",
    "from datetime import timedelta\n",
    "from datetime import datetime\n",
    "from langchain import PromptTemplate\n",
    "\n",
    "from pptx import Presentation\n",
    "from pptx.util import Inches\n",
    "from pptx.util import Cm, Pt\n",
    "\n",
    "from datetime import datetime\n",
    "\n",
    "import json\n",
    "import boto3\n",
    "import uuid\n",
    "\n",
    "from botocore.exceptions import ClientError"
   ]
  },
  {
   "cell_type": "code",
   "execution_count": 100,
   "id": "23fac031-2bc2-4709-9c31-c4452cdac9b5",
   "metadata": {},
   "outputs": [
    {
     "name": "stdout",
     "output_type": "stream",
     "text": [
      " Oct 11, 2023\n",
      "Title of the annoucment : \n",
      " AWS Systems Manager Application Manager now supports SAP HANA\n",
      "\n",
      "\n",
      "Body of the annoucment : \n",
      " AWS Systems Manager Application Manager now supports SAP HANAYou can now use AWS Systems Manager Application Manager to perform operational activities with SAP HANA databases in addition to command line interfaces. AWS Systems Manager for SAP also now supports highly available SAP HANA deployments.AWS Systems Manager is a secure end-to-end management solution for resources on AWS. Application Manager, a capability of AWS Systems Manager, helps DevOps engineers investigate and remediate issues with their AWS resources in the context of their applications and clusters. AWS Systems Manager for SAP helps AWS services understand SAP specific nuances around landscape topology and discover the components of an SAP landscape, such the SAP NetWeaver application server, SAP HANA database, and their interdependencies. It provides automation capabilities to help customers manage and operate their SAP applications on AWS more efficiently. This enables customers to capture specific metadata via registration and reflect system state before and after execution of workload automation. Further, customers can record evidence that an operational activities have been performed properly. With this launch, customers can use Systems Manager Application Manager to register their SAP HANA systems (single node and Highly Available) using Application Manager console. Once registered, these HANA databases (single node) can be managed by AWS Backup to backup and restore the systems. AWS Systems Manager for SAP is available in all commercial regions. To learn about the key features, check out the product documentation page. To learn why thousands of SAP customers trust AWS, visit the SAP on AWS page.AWS Systems Manager for SAP is available in all commercial regions. To learn about the key features, check out the product documentation page. To learn why thousands of SAP customers trust AWS, visit the SAP on AWS page.\n",
      "\n",
      "\n"
     ]
    }
   ],
   "source": [
    "#This will fetch a specific AWS annoucment, extract publishing date, title and body of annoucment\n",
    "\n",
    "link = \"https://aws.amazon.com/about-aws/whats-new/2023/10/aws-systems-manager-application-manager-sap-hana/\"\n",
    "\n",
    "r  = requests.get(link)\n",
    "\n",
    "data = r.text\n",
    "\n",
    "soup = BeautifulSoup(data,'html.parser')\n",
    "\n",
    "final_text_title = ''\n",
    "final_text_body = ''\n",
    "\n",
    "annoucment_title = soup.find_all('div',{\"class\": \"title-wrapper\"})\n",
    "annoucment_date = soup.find('span',{\"class\": \"date\"}).text\n",
    "\n",
    "print(annoucment_date)\n",
    "\n",
    "\n",
    "for lists in annoucment_title:\n",
    "\telement_checked = lists.find('a')\n",
    "\tif element_checked!=None:\n",
    "\t\ttext_got = lists.find('a').text\n",
    "\t\tfinal_text_title = final_text_title + text_got\n",
    "        \n",
    "print(\"Title of the annoucment : \")\n",
    "print(final_text_title)\n",
    "print(\"\\n\")\n",
    "\n",
    "nestedDiv_list = soup.find_all('div',{\"class\": \"aws-text-box\"})\n",
    "\n",
    "for lists in nestedDiv_list:\n",
    "\telement_checked = lists.find('p')\n",
    "\tif element_checked!=None:\n",
    "\t\ttext_got = lists.find('p').text\n",
    "\t\tfinal_text_body = final_text + text_got\n",
    "\n",
    "print(\"Body of the annoucment : \")\n",
    "print(final_text_body)\n",
    "print(\"\\n\")"
   ]
  },
  {
   "cell_type": "code",
   "execution_count": 101,
   "id": "44b58fc5-20da-4f16-8c36-1dd1c402fd85",
   "metadata": {},
   "outputs": [],
   "source": [
    "bedrock_client = boto3.client('bedrock' , 'us-west-2', endpoint_url = 'https://bedrock.us-west-2.amazonaws.com')"
   ]
  },
  {
   "cell_type": "code",
   "execution_count": 104,
   "id": "0f8e5819-e364-4e81-b948-870e94b38bb3",
   "metadata": {},
   "outputs": [
    {
     "ename": "TabError",
     "evalue": "inconsistent use of tabs and spaces in indentation (19022868.py, line 34)",
     "output_type": "error",
     "traceback": [
      "\u001b[0;36m  Cell \u001b[0;32mIn[104], line 34\u001b[0;36m\u001b[0m\n\u001b[0;31m    print(\"prompt---->\" + prompt)\u001b[0m\n\u001b[0m                                 ^\u001b[0m\n\u001b[0;31mTabError\u001b[0m\u001b[0;31m:\u001b[0m inconsistent use of tabs and spaces in indentation\n"
     ]
    }
   ],
   "source": [
    "# Interact with a large language model (LLM) to generate text \n",
    "# based on a prompt.\n",
    "#\n",
    "# Arguments:\n",
    "#   prompt: The text prompt to provide to the LLM.\n",
    "#   llm_type: The name of the LLM to use, either 'titan' or 'claude'. \n",
    "#\n",
    "# Returns:\n",
    "#   The text generated by the LLM in response to the prompt.\n",
    "#   \n",
    "# This function:\n",
    "# 1. Prints the llm_type for debugging.\n",
    "# 2. Formats the prompt into the JSON payload expected by each LLM API.\n",
    "# 3. Specifies the parameters for text generation like max tokens, temp.\n",
    "# 4. Calls the Bedrock client to invoke the LLM model API. \n",
    "# 5. Parses the response to extract the generated text.\n",
    "# 6. Returns the generated text string.\n",
    "\n",
    "def interactWithLLM(prompt,type):\n",
    "\n",
    "\tif type == 'titan':\n",
    "\t\tprint(\"**THE LLM TYPE IS -->\" + type)\n",
    "\t\t#Test for invoke model begins\n",
    "\t\tparameters = {\n",
    "\t\t\t\"maxTokenCount\":512,\n",
    "\t\t\t\"stopSequences\":[],\n",
    "\t\t\t\"temperature\":0,\n",
    "\t\t\t\"topP\":0.9\n",
    "\t\t}\n",
    "\t\tbody = json.dumps({\"inputText\": prompt, \"textGenerationConfig\": parameters})\n",
    "\t\tmodelId = \"amazon.titan-tg1-large\" #\"amazon.titan-tg1-large\"\n",
    "\t\taccept = 'application/json'\n",
    "\t\tcontentType = 'application/json'\n",
    "            print(\"prompt---->\" + prompt)\n",
    "\n",
    "\t\tresponse = bedrock_client.invoke_model(\n",
    "\t\t\tbody=body, modelId=modelId, accept=accept, contentType=contentType\n",
    "\t\t)\n",
    "\n",
    "\t\tresponse_body = json.loads(response.get(\"body\").read())\n",
    "\n",
    "\t\tresponse_text_titan = response_body.get(\"results\")[0].get(\"outputText\")\n",
    "\n",
    "\t\treturn response_text_titan\n",
    "\t\n",
    "\telif type == 'claude':\n",
    "\t\tprint(\"**THE LLM TYPE IS -->\" + type)\n",
    "\t\tbody = json.dumps({\"prompt\": prompt,\n",
    "                 \"max_tokens_to_sample\":300,\n",
    "                 \"temperature\":1,\n",
    "                 \"top_k\":250,\n",
    "                 \"top_p\":0.999,\n",
    "                 \"stop_sequences\":[]\n",
    "                  }) \n",
    "\t\tmodelId = 'anthropic.claude-v2' # change this to use a different version from the model provider\n",
    "\t\taccept = 'application/json'\n",
    "\t\tcontentType = 'application/json'\n",
    "\t\tprint(\"prompt---->\" + prompt)\n",
    "\t\tresponse = bedrock_client.invoke_model(body=body, modelId=modelId, accept=accept, contentType=contentType)\n",
    "\t\tresponse_body = json.loads(response.get('body').read())\n",
    "\n",
    "\t\tresponse_text_claude = response_body.get('completion')\n",
    "\n",
    "\t\treturn response_text_claude"
   ]
  },
  {
   "cell_type": "code",
   "execution_count": 89,
   "id": "d481589d-a36e-453d-a3b5-1683dc40b9d6",
   "metadata": {},
   "outputs": [],
   "source": [
    "prompt_takeaways_tech_claude = \"\"\"\n",
    "Human:  Here are the details of annoucements:\n",
    "<annoucements>\n",
    "{text}\n",
    "</annoucements>\n",
    "Give 2 key takeaways from the above annoucements and list technology names also. In the output takeaways under \"Takeaways:\" and list technology names under \"Technology names:\"\n",
    "Assistant: \n",
    "\t\"\"\""
   ]
  },
  {
   "cell_type": "code",
   "execution_count": 90,
   "id": "eca98362-1baf-4376-afef-a29caa6f990a",
   "metadata": {},
   "outputs": [
    {
     "name": "stdout",
     "output_type": "stream",
     "text": [
      "**THE LLM TYPE IS -->claude\n",
      "prompt---->\n",
      "Human:  Here are the details of annoucements:\n",
      "<annoucements>\n",
      " AWS Systems Manager Application Manager now supports SAP HANAYou can now use AWS Systems Manager Application Manager to perform operational activities with SAP HANA databases in addition to command line interfaces. AWS Systems Manager for SAP also now supports highly available SAP HANA deployments.AWS Systems Manager is a secure end-to-end management solution for resources on AWS. Application Manager, a capability of AWS Systems Manager, helps DevOps engineers investigate and remediate issues with their AWS resources in the context of their applications and clusters. AWS Systems Manager for SAP helps AWS services understand SAP specific nuances around landscape topology and discover the components of an SAP landscape, such the SAP NetWeaver application server, SAP HANA database, and their interdependencies. It provides automation capabilities to help customers manage and operate their SAP applications on AWS more efficiently. This enables customers to capture specific metadata via registration and reflect system state before and after execution of workload automation. Further, customers can record evidence that an operational activities have been performed properly. With this launch, customers can use Systems Manager Application Manager to register their SAP HANA systems (single node and Highly Available) using Application Manager console. Once registered, these HANA databases (single node) can be managed by AWS Backup to backup and restore the systems. AWS Systems Manager for SAP is available in all commercial regions. To learn about the key features, check out the product documentation page. To learn why thousands of SAP customers trust AWS, visit the SAP on AWS page.AWS Systems Manager for SAP is available in all commercial regions. To learn about the key features, check out the product documentation page. To learn why thousands of SAP customers trust AWS, visit the SAP on AWS page.\n",
      "</annoucements>\n",
      "Give 2 key takeaways from the above annoucements and list technology names also. In the output takeaways under \"Takeaways:\" and list technology names under \"Technology names:\"\n",
      "Assistant: \n",
      "\t\n",
      "Response from LLM is ready\n"
     ]
    }
   ],
   "source": [
    "#using Claude as an example\n",
    "\n",
    "llm_type = \"claude\"\n",
    "\n",
    "prompt_template_for_summary_generate = PromptTemplate.from_template(prompt_takeaways_tech_claude)\n",
    "prompt_data_for_summary_generate = prompt_template_for_summary_generate.format(text=final_text_body)\n",
    "\n",
    "response_text = interactWithLLM(prompt_data_for_summary_generate,llm_type)\n",
    "\n",
    "\n",
    "print(\"Response from LLM is ready\")"
   ]
  },
  {
   "cell_type": "code",
   "execution_count": 91,
   "id": "84f44fb7-2770-49d1-a9ba-4755ddee0a55",
   "metadata": {},
   "outputs": [
    {
     "name": "stdout",
     "output_type": "stream",
     "text": [
      "Response from LLM : \n",
      " Here are 2 key takeaways and technology names from the announcements:\n",
      "\n",
      "Takeaways:\n",
      "- AWS Systems Manager Application Manager now supports managing and monitoring SAP HANA databases in addition to existing support for SAP NetWeaver. This enables customers to more easily operate SAP landscapes on AWS.\n",
      "- AWS Systems Manager for SAP now supports highly available SAP HANA deployments, enabling customers to run mission-critical SAP workloads with high availability on AWS. \n",
      "\n",
      "Technology names:\n",
      "- AWS Systems Manager\n",
      "- AWS Systems Manager Application Manager\n",
      "- AWS Systems Manager for SAP\n",
      "- SAP HANA\n",
      "- SAP NetWeaver\n"
     ]
    }
   ],
   "source": [
    "print(\"Response from LLM : \")\n",
    "print(response_text)"
   ]
  },
  {
   "cell_type": "code",
   "execution_count": 92,
   "id": "88ef8ab5-6b00-442a-b3a4-1d217e019c9f",
   "metadata": {},
   "outputs": [],
   "source": [
    "#preparing to save prompt and its responses to dynamodb\n",
    "\n",
    "dynamodb = boto3.resource('dynamodb')\n",
    "table = dynamodb.Table('llm_track')"
   ]
  },
  {
   "cell_type": "code",
   "execution_count": 93,
   "id": "41a60d6b-bc9f-4388-a45f-9cc6f6505e53",
   "metadata": {},
   "outputs": [],
   "source": [
    "#function to save prompt and its responses to dynamodb\n",
    "\n",
    "def savetoDDB(type,prompt, response_llm,parsedDate,link,typeOfExtract):\n",
    "\tnow = datetime.now()\n",
    "\tdate_time = now.strftime(\"%m/%d/%Y, %H:%M:%S\")\n",
    "\n",
    "\tresponse = table.put_item(\n",
    "\t\t\tItem={\n",
    "\t\t\t\t'llm_type': type,\n",
    "\t\t\t\t'insert_time': date_time,\n",
    "\t\t\t\t'prompt' : prompt,\n",
    "\t\t\t\t'response' : response_llm,\n",
    "\t\t\t\t'parsedDate' : parsedDate,\n",
    "\t\t\t\t'link' : link,\n",
    "\t\t\t\t'typeOfExtract' : typeOfExtract\n",
    "\t\t\t}\n",
    "\t\t)\n",
    "\t\n",
    "\tstatus_code = response['ResponseMetadata']['HTTPStatusCode']\n",
    "\treturn status_code"
   ]
  },
  {
   "cell_type": "code",
   "execution_count": 94,
   "id": "a14d22c0-36fd-4292-940b-23e914457287",
   "metadata": {},
   "outputs": [
    {
     "data": {
      "text/plain": [
       "200"
      ]
     },
     "execution_count": 94,
     "metadata": {},
     "output_type": "execute_result"
    }
   ],
   "source": [
    "savetoDDB(llm_type,prompt_data_for_summary_generate,response_text,annoucment_date,link,\"summarize_and_tech\")"
   ]
  },
  {
   "cell_type": "code",
   "execution_count": 95,
   "id": "6388bb31-7df9-45b8-bb28-f0c7da35e295",
   "metadata": {},
   "outputs": [],
   "source": [
    "#auto generates a presentation based on the output of Amazon Bedrock\n",
    "\n",
    "prs=Presentation()\n",
    "\n",
    "lyt=prs.slide_layouts[0] # choosing a slide layout\n",
    "slide=prs.slides.add_slide(lyt) # adding a slide\n",
    "\n",
    "title=slide.shapes.title # assigning a title\n",
    "\n",
    "subtitle=slide.placeholders[1] # placeholder for subtitle\n",
    "\n",
    "title.text=\"AWS whats new\" # title\n",
    "subtitle.text=\"All AWS annoucments for \" + annoucment_date # subtitle\n",
    "\n",
    "Second_Layout = prs.slide_layouts[5]\n",
    "second_slide = prs.slides.add_slide(Second_Layout)\n",
    "\n",
    "second_slide.shapes.title.text = final_text_title\n",
    "title_para = second_slide.shapes.title.text_frame.paragraphs[0]\n",
    "title_para.font.size = Pt(18)\n",
    "\n",
    "textbox = second_slide.shapes.add_textbox(Inches(1), Inches(1.5),Inches(9), Inches(5))\n",
    "textframe = textbox.text_frame\n",
    "textframe.word_wrap = True \n",
    "paragraph = textframe.add_paragraph()\n",
    "paragraph.text = response_text + \"\\n\\n\" + link\n",
    "paragraph.font.size = Pt(18)\n",
    "prs.save(\"sample.pptx\")"
   ]
  },
  {
   "cell_type": "code",
   "execution_count": 96,
   "id": "05a8a21e-b45a-4c22-88e2-17f3ef4ce5e0",
   "metadata": {},
   "outputs": [],
   "source": [
    "prompt_takeaways_tech_titan = \"\"\"\n",
    "Human:  Here are the details of annoucements:\n",
    "{text}\n",
    "Give 2 key takeaways from the above annoucements and list technology names also. In the output takeaways under \"Takeaways:\" and list technology names under \"Technology names:\"\n",
    "\t\"\"\""
   ]
  },
  {
   "cell_type": "code",
   "execution_count": 97,
   "id": "759d4120-d86d-4a1a-9774-ec0aa06f8510",
   "metadata": {},
   "outputs": [
    {
     "name": "stdout",
     "output_type": "stream",
     "text": [
      "**THE LLM TYPE IS -->titan\n",
      "Response from LLM is ready\n"
     ]
    }
   ],
   "source": [
    "#using Claude as an example\n",
    "\n",
    "llm_type = \"titan\"\n",
    "\n",
    "prompt_template_for_summary_generate = PromptTemplate.from_template(prompt_takeaways_tech_titan)\n",
    "prompt_data_for_summary_generate = prompt_template_for_summary_generate.format(text=final_text_body)\n",
    "\n",
    "response_text = interactWithLLM(prompt_data_for_summary_generate,llm_type)\n",
    "\n",
    "\n",
    "print(\"Response from LLM is ready\")"
   ]
  },
  {
   "cell_type": "code",
   "execution_count": 98,
   "id": "dc862568-d632-42b4-b4a7-52df04b805f0",
   "metadata": {},
   "outputs": [
    {
     "name": "stdout",
     "output_type": "stream",
     "text": [
      "Response from LLM : \n",
      "1. AWS Systems Manager Application Manager now supports SAP HANA databases, allowing customers to perform operational activities and manage them using AWS Backup.\n",
      "\t2. AWS Systems Manager for SAP now supports highly available SAP HANA deployments, providing automation capabilities to manage and operate SAP applications on AWS.\n",
      "\t  \n",
      "Technology names:\n",
      "1. AWS Systems Manager Application Manager\n",
      "2. SAP HANA databases\n",
      "3. AWS Backup\n"
     ]
    }
   ],
   "source": [
    "print(\"Response from LLM : \")\n",
    "print(response_text)"
   ]
  },
  {
   "cell_type": "code",
   "execution_count": null,
   "id": "6f5c9d03-416b-4d4d-b5ff-9c3879b235e9",
   "metadata": {},
   "outputs": [],
   "source": []
  }
 ],
 "metadata": {
  "kernelspec": {
   "display_name": "Python 3 (ipykernel)",
   "language": "python",
   "name": "python3"
  },
  "language_info": {
   "codemirror_mode": {
    "name": "ipython",
    "version": 3
   },
   "file_extension": ".py",
   "mimetype": "text/x-python",
   "name": "python",
   "nbconvert_exporter": "python",
   "pygments_lexer": "ipython3",
   "version": "3.9.6"
  }
 },
 "nbformat": 4,
 "nbformat_minor": 5
}
