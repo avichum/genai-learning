{
 "cells": [
  {
   "cell_type": "markdown",
   "id": "6cd76440-c001-4d76-ba7b-2651eb5e654f",
   "metadata": {},
   "source": [
    "# AWS Announcements Assistant"
   ]
  },
  {
   "cell_type": "markdown",
   "id": "b7f944d4-c1c6-4411-a3bd-cb9a7c356692",
   "metadata": {},
   "source": [
    "### Evaluate 🔎 AWS Announcements and auto-generate a presentation. This sample will fetch 🎣 latest AWS annoucements, using Amazon Bedrock will summarize the details and extract technology names from the details and auto-generate a presentation for you.\"\n"
   ]
  },
  {
   "cell_type": "code",
   "execution_count": 22,
   "id": "8edb3d23-94df-4ac5-9207-c1aa4e2b4f8b",
   "metadata": {
    "tags": []
   },
   "outputs": [
    {
     "name": "stdout",
     "output_type": "stream",
     "text": [
      "Requirement already satisfied: bs4 in /usr/local/lib/python3.10/site-packages (0.0.1)\n",
      "Requirement already satisfied: beautifulsoup4 in /usr/local/lib/python3.10/site-packages (from bs4) (4.12.2)\n",
      "Requirement already satisfied: soupsieve>1.2 in /usr/local/lib/python3.10/site-packages (from beautifulsoup4->bs4) (2.5)\n",
      "\u001b[33mWARNING: Running pip as the 'root' user can result in broken permissions and conflicting behaviour with the system package manager. It is recommended to use a virtual environment instead: https://pip.pypa.io/warnings/venv\u001b[0m\u001b[33m\n",
      "\u001b[0m\n",
      "\u001b[1m[\u001b[0m\u001b[34;49mnotice\u001b[0m\u001b[1;39;49m]\u001b[0m\u001b[39;49m A new release of pip available: \u001b[0m\u001b[31;49m22.2.2\u001b[0m\u001b[39;49m -> \u001b[0m\u001b[32;49m23.2.1\u001b[0m\n",
      "\u001b[1m[\u001b[0m\u001b[34;49mnotice\u001b[0m\u001b[1;39;49m]\u001b[0m\u001b[39;49m To update, run: \u001b[0m\u001b[32;49mpip install --upgrade pip\u001b[0m\n",
      "Requirement already satisfied: requests in /usr/local/lib/python3.10/site-packages (2.31.0)\n",
      "Requirement already satisfied: urllib3<3,>=1.21.1 in /usr/local/lib/python3.10/site-packages (from requests) (1.26.16)\n",
      "Requirement already satisfied: certifi>=2017.4.17 in /usr/local/lib/python3.10/site-packages (from requests) (2023.7.22)\n",
      "Requirement already satisfied: charset-normalizer<4,>=2 in /usr/local/lib/python3.10/site-packages (from requests) (3.2.0)\n",
      "Requirement already satisfied: idna<4,>=2.5 in /usr/local/lib/python3.10/site-packages (from requests) (3.4)\n",
      "\u001b[33mWARNING: Running pip as the 'root' user can result in broken permissions and conflicting behaviour with the system package manager. It is recommended to use a virtual environment instead: https://pip.pypa.io/warnings/venv\u001b[0m\u001b[33m\n",
      "\u001b[0m\n",
      "\u001b[1m[\u001b[0m\u001b[34;49mnotice\u001b[0m\u001b[1;39;49m]\u001b[0m\u001b[39;49m A new release of pip available: \u001b[0m\u001b[31;49m22.2.2\u001b[0m\u001b[39;49m -> \u001b[0m\u001b[32;49m23.2.1\u001b[0m\n",
      "\u001b[1m[\u001b[0m\u001b[34;49mnotice\u001b[0m\u001b[1;39;49m]\u001b[0m\u001b[39;49m To update, run: \u001b[0m\u001b[32;49mpip install --upgrade pip\u001b[0m\n",
      "Requirement already satisfied: langchain in /usr/local/lib/python3.10/site-packages (0.0.312)\n",
      "Requirement already satisfied: langsmith<0.1.0,>=0.0.43 in /usr/local/lib/python3.10/site-packages (from langchain) (0.0.43)\n",
      "Requirement already satisfied: dataclasses-json<0.7,>=0.5.7 in /usr/local/lib/python3.10/site-packages (from langchain) (0.6.1)\n",
      "Requirement already satisfied: requests<3,>=2 in /usr/local/lib/python3.10/site-packages (from langchain) (2.31.0)\n",
      "Requirement already satisfied: pydantic<3,>=1 in /usr/local/lib/python3.10/site-packages (from langchain) (2.4.2)\n",
      "Requirement already satisfied: aiohttp<4.0.0,>=3.8.3 in /usr/local/lib/python3.10/site-packages (from langchain) (3.8.6)\n",
      "Requirement already satisfied: numpy<2,>=1 in /usr/local/lib/python3.10/site-packages (from langchain) (1.26.0)\n",
      "Requirement already satisfied: tenacity<9.0.0,>=8.1.0 in /usr/local/lib/python3.10/site-packages (from langchain) (8.2.3)\n",
      "Requirement already satisfied: anyio<4.0 in /usr/local/lib/python3.10/site-packages (from langchain) (3.7.1)\n",
      "Requirement already satisfied: SQLAlchemy<3,>=1.4 in /usr/local/lib/python3.10/site-packages (from langchain) (2.0.21)\n",
      "Requirement already satisfied: jsonpatch<2.0,>=1.33 in /usr/local/lib/python3.10/site-packages (from langchain) (1.33)\n",
      "Requirement already satisfied: async-timeout<5.0.0,>=4.0.0 in /usr/local/lib/python3.10/site-packages (from langchain) (4.0.3)\n",
      "Requirement already satisfied: PyYAML>=5.3 in /usr/local/lib/python3.10/site-packages (from langchain) (6.0.1)\n",
      "Requirement already satisfied: yarl<2.0,>=1.0 in /usr/local/lib/python3.10/site-packages (from aiohttp<4.0.0,>=3.8.3->langchain) (1.9.2)\n",
      "Requirement already satisfied: attrs>=17.3.0 in /usr/local/lib/python3.10/site-packages (from aiohttp<4.0.0,>=3.8.3->langchain) (23.1.0)\n",
      "Requirement already satisfied: multidict<7.0,>=4.5 in /usr/local/lib/python3.10/site-packages (from aiohttp<4.0.0,>=3.8.3->langchain) (6.0.4)\n",
      "Requirement already satisfied: aiosignal>=1.1.2 in /usr/local/lib/python3.10/site-packages (from aiohttp<4.0.0,>=3.8.3->langchain) (1.3.1)\n",
      "Requirement already satisfied: frozenlist>=1.1.1 in /usr/local/lib/python3.10/site-packages (from aiohttp<4.0.0,>=3.8.3->langchain) (1.4.0)\n",
      "Requirement already satisfied: charset-normalizer<4.0,>=2.0 in /usr/local/lib/python3.10/site-packages (from aiohttp<4.0.0,>=3.8.3->langchain) (3.2.0)\n",
      "Requirement already satisfied: sniffio>=1.1 in /usr/local/lib/python3.10/site-packages (from anyio<4.0->langchain) (1.3.0)\n",
      "Requirement already satisfied: idna>=2.8 in /usr/local/lib/python3.10/site-packages (from anyio<4.0->langchain) (3.4)\n",
      "Requirement already satisfied: exceptiongroup in /usr/local/lib/python3.10/site-packages (from anyio<4.0->langchain) (1.1.3)\n",
      "Requirement already satisfied: marshmallow<4.0.0,>=3.18.0 in /usr/local/lib/python3.10/site-packages (from dataclasses-json<0.7,>=0.5.7->langchain) (3.20.1)\n",
      "Requirement already satisfied: typing-inspect<1,>=0.4.0 in /usr/local/lib/python3.10/site-packages (from dataclasses-json<0.7,>=0.5.7->langchain) (0.9.0)\n",
      "Requirement already satisfied: jsonpointer>=1.9 in /usr/local/lib/python3.10/site-packages (from jsonpatch<2.0,>=1.33->langchain) (2.4)\n",
      "Requirement already satisfied: annotated-types>=0.4.0 in /usr/local/lib/python3.10/site-packages (from pydantic<3,>=1->langchain) (0.6.0)\n",
      "Requirement already satisfied: typing-extensions>=4.6.1 in /usr/local/lib/python3.10/site-packages (from pydantic<3,>=1->langchain) (4.8.0)\n",
      "Requirement already satisfied: pydantic-core==2.10.1 in /usr/local/lib/python3.10/site-packages (from pydantic<3,>=1->langchain) (2.10.1)\n",
      "Requirement already satisfied: urllib3<3,>=1.21.1 in /usr/local/lib/python3.10/site-packages (from requests<3,>=2->langchain) (1.26.16)\n",
      "Requirement already satisfied: certifi>=2017.4.17 in /usr/local/lib/python3.10/site-packages (from requests<3,>=2->langchain) (2023.7.22)\n",
      "Requirement already satisfied: greenlet!=0.4.17 in /usr/local/lib/python3.10/site-packages (from SQLAlchemy<3,>=1.4->langchain) (3.0.0)\n",
      "Requirement already satisfied: packaging>=17.0 in /usr/local/lib/python3.10/site-packages (from marshmallow<4.0.0,>=3.18.0->dataclasses-json<0.7,>=0.5.7->langchain) (21.3)\n",
      "Requirement already satisfied: mypy-extensions>=0.3.0 in /usr/local/lib/python3.10/site-packages (from typing-inspect<1,>=0.4.0->dataclasses-json<0.7,>=0.5.7->langchain) (1.0.0)\n",
      "Requirement already satisfied: pyparsing!=3.0.5,>=2.0.2 in /usr/local/lib/python3.10/site-packages (from packaging>=17.0->marshmallow<4.0.0,>=3.18.0->dataclasses-json<0.7,>=0.5.7->langchain) (3.1.1)\n",
      "\u001b[33mWARNING: Running pip as the 'root' user can result in broken permissions and conflicting behaviour with the system package manager. It is recommended to use a virtual environment instead: https://pip.pypa.io/warnings/venv\u001b[0m\u001b[33m\n",
      "\u001b[0m\n",
      "\u001b[1m[\u001b[0m\u001b[34;49mnotice\u001b[0m\u001b[1;39;49m]\u001b[0m\u001b[39;49m A new release of pip available: \u001b[0m\u001b[31;49m22.2.2\u001b[0m\u001b[39;49m -> \u001b[0m\u001b[32;49m23.2.1\u001b[0m\n",
      "\u001b[1m[\u001b[0m\u001b[34;49mnotice\u001b[0m\u001b[1;39;49m]\u001b[0m\u001b[39;49m To update, run: \u001b[0m\u001b[32;49mpip install --upgrade pip\u001b[0m\n",
      "Requirement already satisfied: python-pptx in /usr/local/lib/python3.10/site-packages (0.6.22)\n",
      "Requirement already satisfied: XlsxWriter>=0.5.7 in /usr/local/lib/python3.10/site-packages (from python-pptx) (3.1.7)\n",
      "Requirement already satisfied: Pillow<=9.5.0,>=3.3.2 in /usr/local/lib/python3.10/site-packages (from python-pptx) (9.5.0)\n",
      "Requirement already satisfied: lxml>=3.1.0 in /usr/local/lib/python3.10/site-packages (from python-pptx) (4.9.3)\n",
      "\u001b[33mWARNING: Running pip as the 'root' user can result in broken permissions and conflicting behaviour with the system package manager. It is recommended to use a virtual environment instead: https://pip.pypa.io/warnings/venv\u001b[0m\u001b[33m\n",
      "\u001b[0m\n",
      "\u001b[1m[\u001b[0m\u001b[34;49mnotice\u001b[0m\u001b[1;39;49m]\u001b[0m\u001b[39;49m A new release of pip available: \u001b[0m\u001b[31;49m22.2.2\u001b[0m\u001b[39;49m -> \u001b[0m\u001b[32;49m23.2.1\u001b[0m\n",
      "\u001b[1m[\u001b[0m\u001b[34;49mnotice\u001b[0m\u001b[1;39;49m]\u001b[0m\u001b[39;49m To update, run: \u001b[0m\u001b[32;49mpip install --upgrade pip\u001b[0m\n"
     ]
    }
   ],
   "source": [
    "!pip install bs4\n",
    "!pip install requests \n",
    "!pip install langchain\n",
    "!pip install python-pptx"
   ]
  },
  {
   "cell_type": "code",
   "execution_count": 39,
   "id": "0d939e18-f184-4f7a-b476-035ecbb30e17",
   "metadata": {
    "tags": []
   },
   "outputs": [],
   "source": [
    "import xml.etree.ElementTree as ET\n",
    "from bs4 import BeautifulSoup\n",
    "import requests\n",
    "import shutil\n",
    "import time\n",
    "\n",
    "from datetime import date\n",
    "from datetime import timedelta\n",
    "from datetime import datetime\n",
    "from langchain import PromptTemplate\n",
    "\n",
    "from pptx import Presentation\n",
    "from pptx.util import Inches\n",
    "from pptx.util import Cm, Pt\n",
    "\n",
    "from datetime import datetime\n",
    "\n",
    "import json\n",
    "import boto3\n",
    "import uuid\n",
    "\n",
    "from botocore.exceptions import ClientError"
   ]
  },
  {
   "cell_type": "code",
   "execution_count": 40,
   "id": "23fac031-2bc2-4709-9c31-c4452cdac9b5",
   "metadata": {
    "tags": []
   },
   "outputs": [
    {
     "name": "stdout",
     "output_type": "stream",
     "text": [
      " Oct 11, 2023\n",
      "Title of the annoucment : \n",
      " AWS Systems Manager Application Manager now supports SAP HANA\n",
      "\n",
      "\n",
      "Body of the annoucment : \n",
      "You can now use AWS Systems Manager Application Manager to perform operational activities with SAP HANA databases in addition to command line interfaces. AWS Systems Manager for SAP also now supports highly available SAP HANA deployments.AWS Systems Manager is a secure end-to-end management solution for resources on AWS. Application Manager, a capability of AWS Systems Manager, helps DevOps engineers investigate and remediate issues with their AWS resources in the context of their applications and clusters. AWS Systems Manager for SAP helps AWS services understand SAP specific nuances around landscape topology and discover the components of an SAP landscape, such the SAP NetWeaver application server, SAP HANA database, and their interdependencies. It provides automation capabilities to help customers manage and operate their SAP applications on AWS more efficiently. This enables customers to capture specific metadata via registration and reflect system state before and after execution of workload automation. Further, customers can record evidence that an operational activities have been performed properly. With this launch, customers can use Systems Manager Application Manager to register their SAP HANA systems (single node and Highly Available) using Application Manager console. Once registered, these HANA databases (single node) can be managed by AWS Backup to backup and restore the systems. AWS Systems Manager for SAP is available in all commercial regions. To learn about the key features, check out the product documentation page. To learn why thousands of SAP customers trust AWS, visit the SAP on AWS page.\n",
      "\n",
      "\n"
     ]
    }
   ],
   "source": [
    "#This will fetch a specific AWS annoucment, extract publishing date, title and body of annoucment\n",
    "\n",
    "link = \"https://aws.amazon.com/about-aws/whats-new/2023/10/aws-systems-manager-application-manager-sap-hana/\"\n",
    "\n",
    "r  = requests.get(link)\n",
    "\n",
    "data = r.text\n",
    "\n",
    "soup = BeautifulSoup(data,'html.parser')\n",
    "\n",
    "final_text_title = ''\n",
    "final_text_body = ''\n",
    "\n",
    "annoucment_title = soup.find_all('div',{\"class\": \"title-wrapper\"})\n",
    "annoucment_date = soup.find('span',{\"class\": \"date\"}).text\n",
    "\n",
    "print(annoucment_date)\n",
    "\n",
    "\n",
    "for lists in annoucment_title:\n",
    "\telement_checked = lists.find('a')\n",
    "\tif element_checked!=None:\n",
    "\t\ttext_got = lists.find('a').text\n",
    "\t\tfinal_text_title = final_text_title + text_got\n",
    "        \n",
    "print(\"Title of the annoucment : \")\n",
    "print(final_text_title)\n",
    "print(\"\\n\")\n",
    "\n",
    "nestedDiv_list = soup.find_all('div',{\"class\": \"aws-text-box\"})\n",
    "\n",
    "for lists in nestedDiv_list:\n",
    "\telement_checked = lists.find('p')\n",
    "\tif element_checked!=None:\n",
    "\t\ttext_got = lists.find('p').text\n",
    "\t\tfinal_text_body = final_text_body + text_got\n",
    "\n",
    "print(\"Body of the annoucment : \")\n",
    "print(final_text_body)\n",
    "print(\"\\n\")"
   ]
  },
  {
   "cell_type": "code",
   "execution_count": 41,
   "id": "44b58fc5-20da-4f16-8c36-1dd1c402fd85",
   "metadata": {
    "tags": []
   },
   "outputs": [],
   "source": [
    "#bedrock_client = boto3.client('bedrock' , 'us-west-2', endpoint_url = 'https://bedrock.us-west-2.amazonaws.com')\n",
    "bedrock_client = boto3.client(\n",
    "    service_name='bedrock-runtime', \n",
    "    region_name='us-west-2'\n",
    ")"
   ]
  },
  {
   "cell_type": "code",
   "execution_count": 45,
   "id": "0f8e5819-e364-4e81-b948-870e94b38bb3",
   "metadata": {
    "tags": []
   },
   "outputs": [],
   "source": [
    "# Interact with a large language model (LLM) to generate text \n",
    "# based on a prompt.\n",
    "#\n",
    "# Arguments:\n",
    "#   prompt: The text prompt to provide to the LLM.\n",
    "#   llm_type: The name of the LLM to use, either 'titan' or 'claude'. \n",
    "#\n",
    "# Returns:\n",
    "#   The text generated by the LLM in response to the prompt.\n",
    "#   \n",
    "# This function:\n",
    "# 1. Prints the llm_type for debugging.\n",
    "# 2. Formats the prompt into the JSON payload expected by each LLM API.\n",
    "# 3. Specifies the parameters for text generation like max tokens, temp.\n",
    "# 4. Calls the Bedrock client to invoke the LLM model API. \n",
    "# 5. Parses the response to extract the generated text.\n",
    "# 6. Returns the generated text string.\n",
    "\n",
    "def interactWithLLM(prompt, type):\n",
    "\n",
    "    if type == \"titan\":\n",
    "        print(\"**THE LLM TYPE IS -->\" + type)\n",
    "        print(\"prompt---->\" + prompt)\n",
    "        # Test for invoke model begins\n",
    "        parameters = {\n",
    "            \"maxTokenCount\": 512,\n",
    "            \"stopSequences\": [],\n",
    "            \"temperature\": 0,\n",
    "            \"topP\": 0.9,\n",
    "        }\n",
    "        body = json.dumps({\"inputText\": prompt, \"textGenerationConfig\": parameters})\n",
    "        modelId = \"amazon.titan-tg1-large\"  # \"amazon.titan-tg1-large\"\n",
    "        accept = \"application/json\"\n",
    "        contentType = \"application/json\"\n",
    "        response = bedrock_client.invoke_model(\n",
    "            body=body, modelId=modelId, accept=accept, contentType=contentType\n",
    "        )\n",
    "        response_body = json.loads(response.get(\"body\").read())\n",
    "\n",
    "        response_text_titan = response_body.get(\"results\")[0].get(\"outputText\")\n",
    "\n",
    "        return response_text_titan\n",
    "\n",
    "    elif type == \"claude\":\n",
    "        print(\"**THE LLM TYPE IS -->\" + type)\n",
    "        body = json.dumps(\n",
    "            {\n",
    "                \"prompt\": prompt,\n",
    "                \"max_tokens_to_sample\": 300,\n",
    "                \"temperature\": 1,\n",
    "                \"top_k\": 250,\n",
    "                \"top_p\": 0.999,\n",
    "                \"stop_sequences\": [],\n",
    "            }\n",
    "        )\n",
    "        modelId = \"anthropic.claude-v2\"  # change this to use a different version from the model provider\n",
    "        accept = \"application/json\"\n",
    "        contentType = \"application/json\"\n",
    "        print(\"prompt---->\" + prompt)\n",
    "        response = bedrock_client.invoke_model(\n",
    "            body=body, modelId=modelId, accept=accept, contentType=contentType\n",
    "        )\n",
    "        response_body = json.loads(response.get(\"body\").read())\n",
    "\n",
    "        response_text_claude = response_body.get(\"completion\")\n",
    "\n",
    "        return response_text_claude\n",
    "    \n",
    "    elif type == 'jurassic':\n",
    "        print(\"**THE LLM TYPE IS -->\" + type)\n",
    "        body = json.dumps({\"prompt\":prompt,\"maxTokens\":200,\"temperature\":0,\"topP\":1,\"stopSequences\":[],\"countPenalty\":{\"scale\":0},\"presencePenalty\":{\"scale\":0},\"frequencyPenalty\":{\"scale\":0}}) \n",
    "        modelId = 'ai21.j2-ultra' # change this to use a different version from the model provider\n",
    "        accept = 'application/json'\n",
    "        contentType = 'application/json'\n",
    "        print(\"prompt---->\" + prompt)\n",
    "        response = bedrock_client.invoke_model(body=body, modelId=modelId, accept=accept, contentType=contentType)\n",
    "        response_body = json.loads(response.get('body').read())\n",
    "        \n",
    "        response_text_jurassic = response_body.get('completions')[0].get(\"data\").get(\"text\")\n",
    "        \n",
    "        return response_text_jurassic\n"
   ]
  },
  {
   "cell_type": "code",
   "execution_count": 46,
   "id": "d481589d-a36e-453d-a3b5-1683dc40b9d6",
   "metadata": {
    "tags": []
   },
   "outputs": [],
   "source": [
    "prompt_takeaways_tech_claude = \"\"\"\n",
    "Human:  Here are the details of annoucements:\n",
    "<annoucements>\n",
    "{text}\n",
    "</annoucements>\n",
    "Give 2 key takeaways from the above annoucements and list technology names also. In the output takeaways under \"Takeaways:\" and list technology names under \"Technology names:\"\n",
    "Assistant: \n",
    "\t\"\"\""
   ]
  },
  {
   "cell_type": "code",
   "execution_count": 47,
   "id": "eca98362-1baf-4376-afef-a29caa6f990a",
   "metadata": {
    "tags": []
   },
   "outputs": [
    {
     "name": "stdout",
     "output_type": "stream",
     "text": [
      "**THE LLM TYPE IS -->claude\n",
      "prompt---->\n",
      "Human:  Here are the details of annoucements:\n",
      "<annoucements>\n",
      "You can now use AWS Systems Manager Application Manager to perform operational activities with SAP HANA databases in addition to command line interfaces. AWS Systems Manager for SAP also now supports highly available SAP HANA deployments.AWS Systems Manager is a secure end-to-end management solution for resources on AWS. Application Manager, a capability of AWS Systems Manager, helps DevOps engineers investigate and remediate issues with their AWS resources in the context of their applications and clusters. AWS Systems Manager for SAP helps AWS services understand SAP specific nuances around landscape topology and discover the components of an SAP landscape, such the SAP NetWeaver application server, SAP HANA database, and their interdependencies. It provides automation capabilities to help customers manage and operate their SAP applications on AWS more efficiently. This enables customers to capture specific metadata via registration and reflect system state before and after execution of workload automation. Further, customers can record evidence that an operational activities have been performed properly. With this launch, customers can use Systems Manager Application Manager to register their SAP HANA systems (single node and Highly Available) using Application Manager console. Once registered, these HANA databases (single node) can be managed by AWS Backup to backup and restore the systems. AWS Systems Manager for SAP is available in all commercial regions. To learn about the key features, check out the product documentation page. To learn why thousands of SAP customers trust AWS, visit the SAP on AWS page.\n",
      "</annoucements>\n",
      "Give 2 key takeaways from the above annoucements and list technology names also. In the output takeaways under \"Takeaways:\" and list technology names under \"Technology names:\"\n",
      "Assistant: \n",
      "\t\n",
      "Response from LLM is ready\n",
      "Response from LLM : \n",
      " Here are 2 key takeaways and technology names from the announcements:\n",
      "\n",
      "Takeaways:\n",
      "\n",
      "- AWS Systems Manager Application Manager can now be used to manage operational activities for SAP HANA databases, in addition to command line interfaces. This provides an end-to-end management solution for SAP HANA on AWS.\n",
      "\n",
      "- AWS Systems Manager for SAP now supports highly available SAP HANA deployments. This enables management and automation of highly available SAP landscapes on AWS. \n",
      "\n",
      "Technology names:\n",
      "\n",
      "- AWS Systems Manager\n",
      "- Application Manager\n",
      "- AWS Systems Manager for SAP\n",
      "- SAP HANA\n",
      "- SAP NetWeaver\n"
     ]
    }
   ],
   "source": [
    "#using Claude as an example\n",
    "\n",
    "llm_type = \"claude\"\n",
    "\n",
    "prompt_template_for_summary_generate = PromptTemplate.from_template(prompt_takeaways_tech_claude)\n",
    "prompt_data_for_summary_generate = prompt_template_for_summary_generate.format(text=final_text_body)\n",
    "\n",
    "response_text = interactWithLLM(prompt_data_for_summary_generate,llm_type)\n",
    "\n",
    "\n",
    "print(\"Response from LLM is ready\")\n",
    "\n",
    "print(\"Response from LLM : \")\n",
    "print(response_text)"
   ]
  },
  {
   "cell_type": "code",
   "execution_count": 48,
   "id": "88ef8ab5-6b00-442a-b3a4-1d217e019c9f",
   "metadata": {
    "tags": []
   },
   "outputs": [],
   "source": [
    "#preparing to save prompt and its responses to dynamodb\n",
    "\n",
    "dynamodb = boto3.resource('dynamodb')\n",
    "table = dynamodb.Table('llm_track')"
   ]
  },
  {
   "cell_type": "code",
   "execution_count": 49,
   "id": "612bc0bc-6118-43fc-8e55-29c5936c85f8",
   "metadata": {
    "tags": []
   },
   "outputs": [
    {
     "name": "stdout",
     "output_type": "stream",
     "text": [
      "Table exists\n"
     ]
    }
   ],
   "source": [
    "table_name = 'llm_track'\n",
    "\n",
    "# Check if table exists\n",
    "table = dynamodb.Table(table_name)\n",
    "try:\n",
    "    table.load()\n",
    "except ClientError as err:\n",
    "    if err.response['Error']['Code'] == 'ResourceNotFoundException':\n",
    "        # Table does not exist, create it\n",
    "        table = dynamodb.create_table(\n",
    "                TableName='llm_track',\n",
    "                KeySchema=[\n",
    "                    {\n",
    "                        'AttributeName': 'llm_type',\n",
    "                        'KeyType': 'HASH' \n",
    "                    },\n",
    "                    {\n",
    "                        'AttributeName': 'insert_time',\n",
    "                        'KeyType': 'RANGE'  \n",
    "                    }\n",
    "                ],\n",
    "                AttributeDefinitions=[\n",
    "                    {\n",
    "                        'AttributeName': 'llm_type',\n",
    "                        'AttributeType': 'S'\n",
    "                    },\n",
    "                    {\n",
    "                        'AttributeName': 'insert_time',\n",
    "                        'AttributeType': 'S'\n",
    "                    }\n",
    "\n",
    "                ],\n",
    "                ProvisionedThroughput={\n",
    "                    'ReadCapacityUnits': 10,\n",
    "                    'WriteCapacityUnits': 10\n",
    "                }\n",
    "            )\n",
    "        \n",
    "        print(\"Table status:\", table.table_status)\n",
    "    else:\n",
    "        raise\n",
    "else:\n",
    "    print(\"Table exists\")"
   ]
  },
  {
   "cell_type": "code",
   "execution_count": 50,
   "id": "41a60d6b-bc9f-4388-a45f-9cc6f6505e53",
   "metadata": {
    "tags": []
   },
   "outputs": [],
   "source": [
    "#function to save prompt and its responses to dynamodb\n",
    "\n",
    "def savetoDDB(type,prompt, response_llm,parsedDate,link,typeOfExtract):\n",
    "\tnow = datetime.now()\n",
    "\tdate_time = now.strftime(\"%m/%d/%Y, %H:%M:%S\")\n",
    "\n",
    "\tresponse = table.put_item(\n",
    "\t\t\tItem={\n",
    "\t\t\t\t'llm_type': type,\n",
    "\t\t\t\t'insert_time': date_time,\n",
    "\t\t\t\t'prompt' : prompt,\n",
    "\t\t\t\t'response' : response_llm,\n",
    "\t\t\t\t'parsedDate' : parsedDate,\n",
    "\t\t\t\t'link' : link,\n",
    "\t\t\t\t'typeOfExtract' : typeOfExtract\n",
    "\t\t\t}\n",
    "\t\t)\n",
    "\t\n",
    "\tstatus_code = response['ResponseMetadata']['HTTPStatusCode']\n",
    "\treturn status_code"
   ]
  },
  {
   "cell_type": "code",
   "execution_count": 51,
   "id": "a14d22c0-36fd-4292-940b-23e914457287",
   "metadata": {
    "tags": []
   },
   "outputs": [
    {
     "data": {
      "text/plain": [
       "200"
      ]
     },
     "execution_count": 51,
     "metadata": {},
     "output_type": "execute_result"
    }
   ],
   "source": [
    "savetoDDB(llm_type,prompt_data_for_summary_generate,response_text,annoucment_date,link,\"summarize_and_tech\")"
   ]
  },
  {
   "cell_type": "code",
   "execution_count": 52,
   "id": "6388bb31-7df9-45b8-bb28-f0c7da35e295",
   "metadata": {
    "tags": []
   },
   "outputs": [],
   "source": [
    "#auto generates a presentation based on the output of Amazon Bedrock\n",
    "\n",
    "# Create a new Presentation\n",
    "prs=Presentation()\n",
    "\n",
    "# Select the first slide layout as template \n",
    "lyt=prs.slide_layouts[0] # choosing a slide layout\n",
    "\n",
    "# Add a new slide using the template layout\n",
    "slide=prs.slides.add_slide(lyt) # adding a slide\n",
    "\n",
    "# Get references to title and subtitle placeholders\n",
    "title=slide.shapes.title # assigning a title\n",
    "\n",
    "subtitle=slide.placeholders[1] # placeholder for subtitle\n",
    "\n",
    "# Set title and subtitle text\n",
    "title.text=\"AWS whats new\" # title\n",
    "subtitle.text=\"All AWS annoucments for \" + annoucment_date # subtitle\n",
    "\n",
    "# Create a second slide using a different layout template\n",
    "Second_Layout = prs.slide_layouts[5]\n",
    "second_slide = prs.slides.add_slide(Second_Layout)\n",
    "\n",
    "# Set title text for second slide\n",
    "second_slide.shapes.title.text = final_text_title\n",
    "title_para = second_slide.shapes.title.text_frame.paragraphs[0]\n",
    "\n",
    "# Set font size for title\n",
    "title_para.font.size = Pt(18)\n",
    "\n",
    "# Add textbox and set properties\n",
    "textbox = second_slide.shapes.add_textbox(Inches(1), Inches(1.5),Inches(9), Inches(5))\n",
    "textframe = textbox.text_frame\n",
    "textframe.word_wrap = True \n",
    "\n",
    "# Add paragraph with response text\n",
    "paragraph = textframe.add_paragraph()\n",
    "paragraph.text = response_text + \"\\n\\n\" + link\n",
    "paragraph.font.size = Pt(18)\n",
    "\n",
    "# Save the presentation\n",
    "prs.save(\"sample.pptx\")"
   ]
  },
  {
   "cell_type": "code",
   "execution_count": 53,
   "id": "05a8a21e-b45a-4c22-88e2-17f3ef4ce5e0",
   "metadata": {
    "tags": []
   },
   "outputs": [],
   "source": [
    "prompt_takeaways_tech_jurassic = \"\"\"\n",
    "Human:  Here are the details of annoucements:\n",
    "{text}\n",
    "Give 2 key takeaways from the above annoucements and list technology names also. In the output takeaways under \"Takeaways:\" and list technology names under \"Technology names:\"\n",
    "\t\"\"\""
   ]
  },
  {
   "cell_type": "code",
   "execution_count": 54,
   "id": "759d4120-d86d-4a1a-9774-ec0aa06f8510",
   "metadata": {
    "tags": []
   },
   "outputs": [
    {
     "name": "stdout",
     "output_type": "stream",
     "text": [
      "**THE LLM TYPE IS -->jurassic\n",
      "prompt---->\n",
      "Human:  Here are the details of annoucements:\n",
      "You can now use AWS Systems Manager Application Manager to perform operational activities with SAP HANA databases in addition to command line interfaces. AWS Systems Manager for SAP also now supports highly available SAP HANA deployments.AWS Systems Manager is a secure end-to-end management solution for resources on AWS. Application Manager, a capability of AWS Systems Manager, helps DevOps engineers investigate and remediate issues with their AWS resources in the context of their applications and clusters. AWS Systems Manager for SAP helps AWS services understand SAP specific nuances around landscape topology and discover the components of an SAP landscape, such the SAP NetWeaver application server, SAP HANA database, and their interdependencies. It provides automation capabilities to help customers manage and operate their SAP applications on AWS more efficiently. This enables customers to capture specific metadata via registration and reflect system state before and after execution of workload automation. Further, customers can record evidence that an operational activities have been performed properly. With this launch, customers can use Systems Manager Application Manager to register their SAP HANA systems (single node and Highly Available) using Application Manager console. Once registered, these HANA databases (single node) can be managed by AWS Backup to backup and restore the systems. AWS Systems Manager for SAP is available in all commercial regions. To learn about the key features, check out the product documentation page. To learn why thousands of SAP customers trust AWS, visit the SAP on AWS page.\n",
      "Give 2 key takeaways from the above annoucements and list technology names also. In the output takeaways under \"Takeaways:\" and list technology names under \"Technology names:\"\n",
      "\t\n",
      "Response from LLM is ready\n"
     ]
    }
   ],
   "source": [
    "#using Claude as an example\n",
    "\n",
    "llm_type = \"jurassic\"\n",
    "\n",
    "prompt_template_for_summary_generate = PromptTemplate.from_template(prompt_takeaways_tech_jurassic)\n",
    "prompt_data_for_summary_generate = prompt_template_for_summary_generate.format(text=final_text_body)\n",
    "\n",
    "response_text = interactWithLLM(prompt_data_for_summary_generate,llm_type)\n",
    "\n",
    "\n",
    "print(\"Response from LLM is ready\")"
   ]
  },
  {
   "cell_type": "code",
   "execution_count": 55,
   "id": "dc862568-d632-42b4-b4a7-52df04b805f0",
   "metadata": {
    "tags": []
   },
   "outputs": [
    {
     "name": "stdout",
     "output_type": "stream",
     "text": [
      "Response from LLM : \n",
      "1. AWS Systems Manager Application Manager now supports operational activities with SAP HANA databases in addition to command line interfaces.\n",
      " 2. AWS Systems Manager for SAP now supports highly available SAP HANA deployments.\n",
      "Technology names:\n",
      "AWS Systems Manager, AWS Systems Manager for SAP, SAP HANA\n"
     ]
    }
   ],
   "source": [
    "print(\"Response from LLM : \")\n",
    "print(response_text)"
   ]
  },
  {
   "cell_type": "code",
   "execution_count": null,
   "id": "6f5c9d03-416b-4d4d-b5ff-9c3879b235e9",
   "metadata": {},
   "outputs": [],
   "source": []
  }
 ],
 "metadata": {
  "availableInstances": [
   {
    "_defaultOrder": 0,
    "_isFastLaunch": true,
    "category": "General purpose",
    "gpuNum": 0,
    "hideHardwareSpecs": false,
    "memoryGiB": 4,
    "name": "ml.t3.medium",
    "vcpuNum": 2
   },
   {
    "_defaultOrder": 1,
    "_isFastLaunch": false,
    "category": "General purpose",
    "gpuNum": 0,
    "hideHardwareSpecs": false,
    "memoryGiB": 8,
    "name": "ml.t3.large",
    "vcpuNum": 2
   },
   {
    "_defaultOrder": 2,
    "_isFastLaunch": false,
    "category": "General purpose",
    "gpuNum": 0,
    "hideHardwareSpecs": false,
    "memoryGiB": 16,
    "name": "ml.t3.xlarge",
    "vcpuNum": 4
   },
   {
    "_defaultOrder": 3,
    "_isFastLaunch": false,
    "category": "General purpose",
    "gpuNum": 0,
    "hideHardwareSpecs": false,
    "memoryGiB": 32,
    "name": "ml.t3.2xlarge",
    "vcpuNum": 8
   },
   {
    "_defaultOrder": 4,
    "_isFastLaunch": true,
    "category": "General purpose",
    "gpuNum": 0,
    "hideHardwareSpecs": false,
    "memoryGiB": 8,
    "name": "ml.m5.large",
    "vcpuNum": 2
   },
   {
    "_defaultOrder": 5,
    "_isFastLaunch": false,
    "category": "General purpose",
    "gpuNum": 0,
    "hideHardwareSpecs": false,
    "memoryGiB": 16,
    "name": "ml.m5.xlarge",
    "vcpuNum": 4
   },
   {
    "_defaultOrder": 6,
    "_isFastLaunch": false,
    "category": "General purpose",
    "gpuNum": 0,
    "hideHardwareSpecs": false,
    "memoryGiB": 32,
    "name": "ml.m5.2xlarge",
    "vcpuNum": 8
   },
   {
    "_defaultOrder": 7,
    "_isFastLaunch": false,
    "category": "General purpose",
    "gpuNum": 0,
    "hideHardwareSpecs": false,
    "memoryGiB": 64,
    "name": "ml.m5.4xlarge",
    "vcpuNum": 16
   },
   {
    "_defaultOrder": 8,
    "_isFastLaunch": false,
    "category": "General purpose",
    "gpuNum": 0,
    "hideHardwareSpecs": false,
    "memoryGiB": 128,
    "name": "ml.m5.8xlarge",
    "vcpuNum": 32
   },
   {
    "_defaultOrder": 9,
    "_isFastLaunch": false,
    "category": "General purpose",
    "gpuNum": 0,
    "hideHardwareSpecs": false,
    "memoryGiB": 192,
    "name": "ml.m5.12xlarge",
    "vcpuNum": 48
   },
   {
    "_defaultOrder": 10,
    "_isFastLaunch": false,
    "category": "General purpose",
    "gpuNum": 0,
    "hideHardwareSpecs": false,
    "memoryGiB": 256,
    "name": "ml.m5.16xlarge",
    "vcpuNum": 64
   },
   {
    "_defaultOrder": 11,
    "_isFastLaunch": false,
    "category": "General purpose",
    "gpuNum": 0,
    "hideHardwareSpecs": false,
    "memoryGiB": 384,
    "name": "ml.m5.24xlarge",
    "vcpuNum": 96
   },
   {
    "_defaultOrder": 12,
    "_isFastLaunch": false,
    "category": "General purpose",
    "gpuNum": 0,
    "hideHardwareSpecs": false,
    "memoryGiB": 8,
    "name": "ml.m5d.large",
    "vcpuNum": 2
   },
   {
    "_defaultOrder": 13,
    "_isFastLaunch": false,
    "category": "General purpose",
    "gpuNum": 0,
    "hideHardwareSpecs": false,
    "memoryGiB": 16,
    "name": "ml.m5d.xlarge",
    "vcpuNum": 4
   },
   {
    "_defaultOrder": 14,
    "_isFastLaunch": false,
    "category": "General purpose",
    "gpuNum": 0,
    "hideHardwareSpecs": false,
    "memoryGiB": 32,
    "name": "ml.m5d.2xlarge",
    "vcpuNum": 8
   },
   {
    "_defaultOrder": 15,
    "_isFastLaunch": false,
    "category": "General purpose",
    "gpuNum": 0,
    "hideHardwareSpecs": false,
    "memoryGiB": 64,
    "name": "ml.m5d.4xlarge",
    "vcpuNum": 16
   },
   {
    "_defaultOrder": 16,
    "_isFastLaunch": false,
    "category": "General purpose",
    "gpuNum": 0,
    "hideHardwareSpecs": false,
    "memoryGiB": 128,
    "name": "ml.m5d.8xlarge",
    "vcpuNum": 32
   },
   {
    "_defaultOrder": 17,
    "_isFastLaunch": false,
    "category": "General purpose",
    "gpuNum": 0,
    "hideHardwareSpecs": false,
    "memoryGiB": 192,
    "name": "ml.m5d.12xlarge",
    "vcpuNum": 48
   },
   {
    "_defaultOrder": 18,
    "_isFastLaunch": false,
    "category": "General purpose",
    "gpuNum": 0,
    "hideHardwareSpecs": false,
    "memoryGiB": 256,
    "name": "ml.m5d.16xlarge",
    "vcpuNum": 64
   },
   {
    "_defaultOrder": 19,
    "_isFastLaunch": false,
    "category": "General purpose",
    "gpuNum": 0,
    "hideHardwareSpecs": false,
    "memoryGiB": 384,
    "name": "ml.m5d.24xlarge",
    "vcpuNum": 96
   },
   {
    "_defaultOrder": 20,
    "_isFastLaunch": false,
    "category": "General purpose",
    "gpuNum": 0,
    "hideHardwareSpecs": true,
    "memoryGiB": 0,
    "name": "ml.geospatial.interactive",
    "supportedImageNames": [
     "sagemaker-geospatial-v1-0"
    ],
    "vcpuNum": 0
   },
   {
    "_defaultOrder": 21,
    "_isFastLaunch": true,
    "category": "Compute optimized",
    "gpuNum": 0,
    "hideHardwareSpecs": false,
    "memoryGiB": 4,
    "name": "ml.c5.large",
    "vcpuNum": 2
   },
   {
    "_defaultOrder": 22,
    "_isFastLaunch": false,
    "category": "Compute optimized",
    "gpuNum": 0,
    "hideHardwareSpecs": false,
    "memoryGiB": 8,
    "name": "ml.c5.xlarge",
    "vcpuNum": 4
   },
   {
    "_defaultOrder": 23,
    "_isFastLaunch": false,
    "category": "Compute optimized",
    "gpuNum": 0,
    "hideHardwareSpecs": false,
    "memoryGiB": 16,
    "name": "ml.c5.2xlarge",
    "vcpuNum": 8
   },
   {
    "_defaultOrder": 24,
    "_isFastLaunch": false,
    "category": "Compute optimized",
    "gpuNum": 0,
    "hideHardwareSpecs": false,
    "memoryGiB": 32,
    "name": "ml.c5.4xlarge",
    "vcpuNum": 16
   },
   {
    "_defaultOrder": 25,
    "_isFastLaunch": false,
    "category": "Compute optimized",
    "gpuNum": 0,
    "hideHardwareSpecs": false,
    "memoryGiB": 72,
    "name": "ml.c5.9xlarge",
    "vcpuNum": 36
   },
   {
    "_defaultOrder": 26,
    "_isFastLaunch": false,
    "category": "Compute optimized",
    "gpuNum": 0,
    "hideHardwareSpecs": false,
    "memoryGiB": 96,
    "name": "ml.c5.12xlarge",
    "vcpuNum": 48
   },
   {
    "_defaultOrder": 27,
    "_isFastLaunch": false,
    "category": "Compute optimized",
    "gpuNum": 0,
    "hideHardwareSpecs": false,
    "memoryGiB": 144,
    "name": "ml.c5.18xlarge",
    "vcpuNum": 72
   },
   {
    "_defaultOrder": 28,
    "_isFastLaunch": false,
    "category": "Compute optimized",
    "gpuNum": 0,
    "hideHardwareSpecs": false,
    "memoryGiB": 192,
    "name": "ml.c5.24xlarge",
    "vcpuNum": 96
   },
   {
    "_defaultOrder": 29,
    "_isFastLaunch": true,
    "category": "Accelerated computing",
    "gpuNum": 1,
    "hideHardwareSpecs": false,
    "memoryGiB": 16,
    "name": "ml.g4dn.xlarge",
    "vcpuNum": 4
   },
   {
    "_defaultOrder": 30,
    "_isFastLaunch": false,
    "category": "Accelerated computing",
    "gpuNum": 1,
    "hideHardwareSpecs": false,
    "memoryGiB": 32,
    "name": "ml.g4dn.2xlarge",
    "vcpuNum": 8
   },
   {
    "_defaultOrder": 31,
    "_isFastLaunch": false,
    "category": "Accelerated computing",
    "gpuNum": 1,
    "hideHardwareSpecs": false,
    "memoryGiB": 64,
    "name": "ml.g4dn.4xlarge",
    "vcpuNum": 16
   },
   {
    "_defaultOrder": 32,
    "_isFastLaunch": false,
    "category": "Accelerated computing",
    "gpuNum": 1,
    "hideHardwareSpecs": false,
    "memoryGiB": 128,
    "name": "ml.g4dn.8xlarge",
    "vcpuNum": 32
   },
   {
    "_defaultOrder": 33,
    "_isFastLaunch": false,
    "category": "Accelerated computing",
    "gpuNum": 4,
    "hideHardwareSpecs": false,
    "memoryGiB": 192,
    "name": "ml.g4dn.12xlarge",
    "vcpuNum": 48
   },
   {
    "_defaultOrder": 34,
    "_isFastLaunch": false,
    "category": "Accelerated computing",
    "gpuNum": 1,
    "hideHardwareSpecs": false,
    "memoryGiB": 256,
    "name": "ml.g4dn.16xlarge",
    "vcpuNum": 64
   },
   {
    "_defaultOrder": 35,
    "_isFastLaunch": false,
    "category": "Accelerated computing",
    "gpuNum": 1,
    "hideHardwareSpecs": false,
    "memoryGiB": 61,
    "name": "ml.p3.2xlarge",
    "vcpuNum": 8
   },
   {
    "_defaultOrder": 36,
    "_isFastLaunch": false,
    "category": "Accelerated computing",
    "gpuNum": 4,
    "hideHardwareSpecs": false,
    "memoryGiB": 244,
    "name": "ml.p3.8xlarge",
    "vcpuNum": 32
   },
   {
    "_defaultOrder": 37,
    "_isFastLaunch": false,
    "category": "Accelerated computing",
    "gpuNum": 8,
    "hideHardwareSpecs": false,
    "memoryGiB": 488,
    "name": "ml.p3.16xlarge",
    "vcpuNum": 64
   },
   {
    "_defaultOrder": 38,
    "_isFastLaunch": false,
    "category": "Accelerated computing",
    "gpuNum": 8,
    "hideHardwareSpecs": false,
    "memoryGiB": 768,
    "name": "ml.p3dn.24xlarge",
    "vcpuNum": 96
   },
   {
    "_defaultOrder": 39,
    "_isFastLaunch": false,
    "category": "Memory Optimized",
    "gpuNum": 0,
    "hideHardwareSpecs": false,
    "memoryGiB": 16,
    "name": "ml.r5.large",
    "vcpuNum": 2
   },
   {
    "_defaultOrder": 40,
    "_isFastLaunch": false,
    "category": "Memory Optimized",
    "gpuNum": 0,
    "hideHardwareSpecs": false,
    "memoryGiB": 32,
    "name": "ml.r5.xlarge",
    "vcpuNum": 4
   },
   {
    "_defaultOrder": 41,
    "_isFastLaunch": false,
    "category": "Memory Optimized",
    "gpuNum": 0,
    "hideHardwareSpecs": false,
    "memoryGiB": 64,
    "name": "ml.r5.2xlarge",
    "vcpuNum": 8
   },
   {
    "_defaultOrder": 42,
    "_isFastLaunch": false,
    "category": "Memory Optimized",
    "gpuNum": 0,
    "hideHardwareSpecs": false,
    "memoryGiB": 128,
    "name": "ml.r5.4xlarge",
    "vcpuNum": 16
   },
   {
    "_defaultOrder": 43,
    "_isFastLaunch": false,
    "category": "Memory Optimized",
    "gpuNum": 0,
    "hideHardwareSpecs": false,
    "memoryGiB": 256,
    "name": "ml.r5.8xlarge",
    "vcpuNum": 32
   },
   {
    "_defaultOrder": 44,
    "_isFastLaunch": false,
    "category": "Memory Optimized",
    "gpuNum": 0,
    "hideHardwareSpecs": false,
    "memoryGiB": 384,
    "name": "ml.r5.12xlarge",
    "vcpuNum": 48
   },
   {
    "_defaultOrder": 45,
    "_isFastLaunch": false,
    "category": "Memory Optimized",
    "gpuNum": 0,
    "hideHardwareSpecs": false,
    "memoryGiB": 512,
    "name": "ml.r5.16xlarge",
    "vcpuNum": 64
   },
   {
    "_defaultOrder": 46,
    "_isFastLaunch": false,
    "category": "Memory Optimized",
    "gpuNum": 0,
    "hideHardwareSpecs": false,
    "memoryGiB": 768,
    "name": "ml.r5.24xlarge",
    "vcpuNum": 96
   },
   {
    "_defaultOrder": 47,
    "_isFastLaunch": false,
    "category": "Accelerated computing",
    "gpuNum": 1,
    "hideHardwareSpecs": false,
    "memoryGiB": 16,
    "name": "ml.g5.xlarge",
    "vcpuNum": 4
   },
   {
    "_defaultOrder": 48,
    "_isFastLaunch": false,
    "category": "Accelerated computing",
    "gpuNum": 1,
    "hideHardwareSpecs": false,
    "memoryGiB": 32,
    "name": "ml.g5.2xlarge",
    "vcpuNum": 8
   },
   {
    "_defaultOrder": 49,
    "_isFastLaunch": false,
    "category": "Accelerated computing",
    "gpuNum": 1,
    "hideHardwareSpecs": false,
    "memoryGiB": 64,
    "name": "ml.g5.4xlarge",
    "vcpuNum": 16
   },
   {
    "_defaultOrder": 50,
    "_isFastLaunch": false,
    "category": "Accelerated computing",
    "gpuNum": 1,
    "hideHardwareSpecs": false,
    "memoryGiB": 128,
    "name": "ml.g5.8xlarge",
    "vcpuNum": 32
   },
   {
    "_defaultOrder": 51,
    "_isFastLaunch": false,
    "category": "Accelerated computing",
    "gpuNum": 1,
    "hideHardwareSpecs": false,
    "memoryGiB": 256,
    "name": "ml.g5.16xlarge",
    "vcpuNum": 64
   },
   {
    "_defaultOrder": 52,
    "_isFastLaunch": false,
    "category": "Accelerated computing",
    "gpuNum": 4,
    "hideHardwareSpecs": false,
    "memoryGiB": 192,
    "name": "ml.g5.12xlarge",
    "vcpuNum": 48
   },
   {
    "_defaultOrder": 53,
    "_isFastLaunch": false,
    "category": "Accelerated computing",
    "gpuNum": 4,
    "hideHardwareSpecs": false,
    "memoryGiB": 384,
    "name": "ml.g5.24xlarge",
    "vcpuNum": 96
   },
   {
    "_defaultOrder": 54,
    "_isFastLaunch": false,
    "category": "Accelerated computing",
    "gpuNum": 8,
    "hideHardwareSpecs": false,
    "memoryGiB": 768,
    "name": "ml.g5.48xlarge",
    "vcpuNum": 192
   },
   {
    "_defaultOrder": 55,
    "_isFastLaunch": false,
    "category": "Accelerated computing",
    "gpuNum": 8,
    "hideHardwareSpecs": false,
    "memoryGiB": 1152,
    "name": "ml.p4d.24xlarge",
    "vcpuNum": 96
   },
   {
    "_defaultOrder": 56,
    "_isFastLaunch": false,
    "category": "Accelerated computing",
    "gpuNum": 8,
    "hideHardwareSpecs": false,
    "memoryGiB": 1152,
    "name": "ml.p4de.24xlarge",
    "vcpuNum": 96
   }
  ],
  "instance_type": "ml.t3.medium",
  "kernelspec": {
   "display_name": "Python 3 (Base Python 3.0)",
   "language": "python",
   "name": "python3__SAGEMAKER_INTERNAL__arn:aws:sagemaker:us-west-2:236514542706:image/sagemaker-base-python-310-v1"
  },
  "language_info": {
   "codemirror_mode": {
    "name": "ipython",
    "version": 3
   },
   "file_extension": ".py",
   "mimetype": "text/x-python",
   "name": "python",
   "nbconvert_exporter": "python",
   "pygments_lexer": "ipython3",
   "version": "3.10.8"
  }
 },
 "nbformat": 4,
 "nbformat_minor": 5
}
